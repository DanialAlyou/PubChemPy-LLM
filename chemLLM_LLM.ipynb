{
 "cells": [
  {
   "cell_type": "code",
   "execution_count": null,
   "metadata": {
    "id": "HbltQEXUTySQ"
   },
   "outputs": [],
   "source": [
    "!pip install langchain langchain_community langchain_openai openai pubchempy rdkit-pypi gradio"
   ]
  },
  {
   "cell_type": "code",
   "execution_count": null,
   "metadata": {
    "id": "WCk2FejgVFFy"
   },
   "outputs": [],
   "source": [
    "import os\n",
    "os.environ[\"OPENAI_API_KEY\"] = \"\""
   ]
  },
  {
   "cell_type": "code",
   "execution_count": null,
   "metadata": {
    "colab": {
     "base_uri": "https://localhost:8080/"
    },
    "id": "FwKZdRmhXApT",
    "outputId": "820a3411-ffd4-4bc6-ba2f-3784c0cc65b2"
   },
   "outputs": [
    {
     "name": "stderr",
     "output_type": "stream",
     "text": [
      "<ipython-input-3-7ca609ad8614>:20: LangChainDeprecationWarning: The function `_convert_pydantic_to_openai_function` was deprecated in LangChain 0.1.16 and will be removed in 1.0. Use :meth:`~langchain_core.utils.function_calling.convert_to_openai_function()` instead.\n",
      "  function_schema = convert_pydantic_to_openai_function(ExtractedInfo)\n"
     ]
    }
   ],
   "source": [
    "from langchain_openai.chat_models import ChatOpenAI\n",
    "from pydantic import BaseModel, Field\n",
    "from langchain_community.utils.openai_functions import convert_pydantic_to_openai_function\n",
    "from typing import List\n",
    "\n",
    "class ExtractedInfo(BaseModel):\n",
    "    search_key: str = Field(\n",
    "        ...,\n",
    "        description=\"The key to search for the compound, it should be compound name, formula, or SMILES.\"\n",
    "    )\n",
    "    search_key_type: str = Field(\n",
    "        ...,\n",
    "        description=\"The type of key to search for the compound, is it a name, formula or SMILES .\"\n",
    "    )\n",
    "    requested_attributes: List[str] = Field(\n",
    "        ...,\n",
    "        description=(\"The attribute being requested it should be one of the following: atom_stereo_count, atoms, bond_stereo_count, bonds, cactvs_fingerprint, canonical_smiles, charge, cid, complexity, conformer_id_3d, conformer_rmsd_3d, coordinate_type, covalent_unit_count, defined_atom_stereo_count, defined_bond_stereo_count, effective_rotor_count_3d, elements, exact_mass, feature_selfoverlap_3d, fingerprint, h_bond_acceptor_count, h_bond_donor_count, heavy_atom_count, inchi, inchikey, isomeric_smiles, isotope_atom_count, iupac_name, mmff94_energy_3d, mmff94_partial_charges_3d, molecular_formula, molecular_weight, monoisotopic_mass, multipoles_3d, pharmacophore_features_3d, record, rotatable_bond_count, shape_fingerprint_3d, shape_selfoverlap_3d, tpsa, undefined_atom_stereo_count, undefined_bond_stereo_count, volume_3d, xlogp, canonical_smiles, or compound.synonyms.\")\n",
    "    )\n",
    "\n",
    "function_schema = convert_pydantic_to_openai_function(ExtractedInfo)\n",
    "\n",
    "def extract_information_with_langchain(user_input: str):\n",
    "    llm = ChatOpenAI(temperature=0, model_name=\"gpt-4\")\n",
    "\n",
    "    prompt = f\"\"\"You are a chemistry expert chatbot.\n",
    "    Extract the search key and requested attributes from the following user input:\n",
    "    '{user_input}'\n",
    "    Format the result as JSON based on the schema provided.\"\"\"\n",
    "\n",
    "    response = llm.predict(prompt, functions=[function_schema])\n",
    "\n",
    "\n",
    "    try:\n",
    "        extracted_info = ExtractedInfo.model_validate_json(response)\n",
    "        return extracted_info\n",
    "    except Exception as e:\n",
    "        return f\"Error validating extracted information: {str(e)}\"\n",
    "\n",
    "\n"
   ]
  },
  {
   "cell_type": "code",
   "execution_count": null,
   "metadata": {
    "colab": {
     "base_uri": "https://localhost:8080/"
    },
    "id": "IsIPyy-fXW1T",
    "outputId": "c390621d-eef8-4b1d-ba7e-0fddf364a1a1"
   },
   "outputs": [
    {
     "name": "stdout",
     "output_type": "stream",
     "text": [
      "Extracted Information:\n",
      "Search Key: caffeine\n",
      "Search Key type: name\n",
      "Requested Attributes: molecular_weight, molecular_formula\n"
     ]
    }
   ],
   "source": [
    "user_query = \"What is the molecular weight and molecular formula of caffeine?\"\n",
    "\n",
    "result = extract_information_with_langchain(user_query)\n",
    "\n",
    "if isinstance(result, ExtractedInfo):\n",
    "    print(\"Extracted Information:\")\n",
    "    print(f\"Search Key: {result.search_key}\")\n",
    "    print(f\"Search Key type: {result.search_key_type}\")\n",
    "    print(f\"Requested Attributes: {', '.join(result.requested_attributes)}\")\n",
    "else:\n",
    "    print(result)"
   ]
  },
  {
   "cell_type": "code",
   "execution_count": null,
   "metadata": {
    "colab": {
     "base_uri": "https://localhost:8080/"
    },
    "id": "FylaB6z7ifdz",
    "outputId": "0f7013f3-519e-4f5d-a2e5-3a331a174e07"
   },
   "outputs": [
    {
     "name": "stdout",
     "output_type": "stream",
     "text": [
      "Extracted Information:\n",
      "Search Key: CC(=O)OC1=CC=CC=C1C(=O)O\n",
      "Search Key type: SMILES\n",
      "Requested Attributes: iupac_name, molecular_formula\n"
     ]
    }
   ],
   "source": [
    "user_query = \"What is this compound name CC(=O)OC1=CC=CC=C1C(=O)O and what is its molecular formula ?\"\n",
    "\n",
    "result = extract_information_with_langchain(user_query)\n",
    "\n",
    "if isinstance(result, ExtractedInfo):\n",
    "    print(\"Extracted Information:\")\n",
    "    print(f\"Search Key: {result.search_key}\")\n",
    "    print(f\"Search Key type: {result.search_key_type}\")\n",
    "    print(f\"Requested Attributes: {', '.join(result.requested_attributes)}\")\n",
    "else:\n",
    "    print(result)"
   ]
  },
  {
   "cell_type": "code",
   "execution_count": null,
   "metadata": {
    "colab": {
     "base_uri": "https://localhost:8080/"
    },
    "id": "uMwwFLAfisYq",
    "outputId": "162571f3-f886-4e5b-815d-7844a3c0a2a1"
   },
   "outputs": [
    {
     "name": "stdout",
     "output_type": "stream",
     "text": [
      "Extracted Information:\n",
      "Search Key: H2O\n",
      "Search Key type: formula\n",
      "Requested Attributes: canonical_smiles, iupac_name\n"
     ]
    }
   ],
   "source": [
    "user_query = \"What is this compound name H2O and what is its SMILES formula ?\"\n",
    "\n",
    "result = extract_information_with_langchain(user_query)\n",
    "\n",
    "if isinstance(result, ExtractedInfo):\n",
    "    print(\"Extracted Information:\")\n",
    "    print(f\"Search Key: {result.search_key}\")\n",
    "    print(f\"Search Key type: {result.search_key_type}\")\n",
    "    print(f\"Requested Attributes: {', '.join(result.requested_attributes)}\")\n",
    "else:\n",
    "    print(result)"
   ]
  },
  {
   "cell_type": "code",
   "execution_count": null,
   "metadata": {
    "id": "Tr95OEl3jkXa"
   },
   "outputs": [],
   "source": [
    "test_questions = {\n",
    "    \"What is the molecular formula of Aspirin?\": {\n",
    "        \"search_key\": \"name\",\n",
    "        \"search_value\": \"Aspirin\",\n",
    "        \"information_requested\": [\"molecular_formula\"]\n",
    "    },\n",
    "    \"Provide the canonical SMILES for Ibuprofen.\": {\n",
    "        \"search_key\": \"name\",\n",
    "        \"search_value\": \"Ibuprofen\",\n",
    "        \"information_requested\": [\"canonical_smiles\"]\n",
    "    },\n",
    "    \"What is the molecular weight of caffeine?\": {\n",
    "        \"search_key\": \"name\",\n",
    "        \"search_value\": \"caffeine\",\n",
    "        \"information_requested\": [\"molecular_weight\"]\n",
    "    },\n",
    "    \"Give me the InChIKey for Paracetamol.\": {\n",
    "        \"search_key\": \"name\",\n",
    "        \"search_value\": \"Paracetamol\",\n",
    "        \"information_requested\": [\"inchikey\"]\n",
    "    },\n",
    "    \"What is the exact mass of water?\": {\n",
    "        \"search_key\": \"name\",\n",
    "        \"search_value\": \"water\",\n",
    "        \"information_requested\": [\"exact_mass\"]\n",
    "    },\n",
    "    \"How many rotatable bonds does Ethanol have?\": {\n",
    "        \"search_key\": \"name\",\n",
    "        \"search_value\": \"Ethanol\",\n",
    "        \"information_requested\": [\"rotatable_bond_count\"]\n",
    "    },\n",
    "    \"List all synonyms for Methane.\": {\n",
    "        \"search_key\": \"name\",\n",
    "        \"search_value\": \"Methane\",\n",
    "        \"information_requested\": [\"compound.synonyms\"]\n",
    "    },\n",
    "    \"Provide the number of heavy atoms in Benzene.\": {\n",
    "        \"search_key\": \"name\",\n",
    "        \"search_value\": \"Benzene\",\n",
    "        \"information_requested\": [\"heavy_atom_count\"]\n",
    "    },\n",
    "    \"Generate the chemical structure drawing for Acetone.\": {\n",
    "        \"search_key\": \"name\",\n",
    "        \"search_value\": \"Acetone\",\n",
    "        \"information_requested\": [\"canonical_smiles\"],\n",
    "        \"action\": \"draw_structure\"\n",
    "    },\n",
    "    \"What is the atom stereo count for Threonine?\": {\n",
    "        \"search_key\": \"name\",\n",
    "        \"search_value\": \"Threonine\",\n",
    "        \"information_requested\": [\"atom_stereo_count\"]\n",
    "    },\n",
    "    \"Provide the molecular formula of Glucose.\": {\n",
    "        \"search_key\": \"name\",\n",
    "        \"search_value\": \"Glucose\",\n",
    "        \"information_requested\": [\"molecular_formula\"]\n",
    "    },\n",
    "    \"Give me the canonical SMILES for Sulfuric acid.\": {\n",
    "        \"search_key\": \"name\",\n",
    "        \"search_value\": \"Sulfuric acid\",\n",
    "        \"information_requested\": [\"canonical_smiles\"]\n",
    "    },\n",
    "    \"What is the molecular formula of NaCl?\": {\n",
    "        \"search_key\": \"formula\",\n",
    "        \"search_value\": \"NaCl\",\n",
    "        \"information_requested\": [\"molecular_formula\"]\n",
    "    },\n",
    "    \"Provide the InChIKey for CH4.\": {\n",
    "        \"search_key\": \"formula\",\n",
    "        \"search_value\": \"CH4\",\n",
    "        \"information_requested\": [\"inchikey\"]\n",
    "    },\n",
    "    \"What is the molecular weight of H2SO4?\": {\n",
    "        \"search_key\": \"formula\",\n",
    "        \"search_value\": \"H2SO4\",\n",
    "        \"information_requested\": [\"molecular_weight\"]\n",
    "    }\n",
    "}\n"
   ]
  },
  {
   "cell_type": "code",
   "execution_count": null,
   "metadata": {
    "colab": {
     "base_uri": "https://localhost:8080/"
    },
    "id": "tJlBEnCxB19E",
    "outputId": "63d07ca8-791f-44f0-b882-773d87f1e3dc"
   },
   "outputs": [
    {
     "name": "stdout",
     "output_type": "stream",
     "text": [
      "Question: What is the molecular formula of Aspirin?\n",
      "Question: Provide the canonical SMILES for Ibuprofen.\n",
      "Question: What is the molecular weight of caffeine?\n",
      "Question: Give me the InChIKey for Paracetamol.\n",
      "Question: What is the exact mass of water?\n",
      "Question: How many rotatable bonds does Ethanol have?\n",
      "Question: List all synonyms for Methane.\n",
      "Question: Provide the number of heavy atoms in Benzene.\n",
      "Question: Generate the chemical structure drawing for Acetone.\n",
      "Question: What is the atom stereo count for Threonine?\n",
      "Question: Provide the molecular formula of Glucose.\n",
      "Question: Give me the canonical SMILES for Sulfuric acid.\n",
      "Question: What is the molecular formula of NaCl?\n",
      "Question: Provide the InChIKey for CH4.\n",
      "Question: What is the molecular weight of H2SO4?\n"
     ]
    }
   ],
   "source": [
    "key_error = []\n",
    "info_error = []\n",
    "for q, info in test_questions.items():\n",
    "\n",
    "    print(f\"Question: {q}\")\n",
    "    result = extract_information_with_langchain(q)\n",
    "\n",
    "    if result.search_key == info[\"search_value\"] and result.requested_attributes ==  info[\"information_requested\"]:\n",
    "      continue\n",
    "    if result.search_key != info[\"search_value\"]:\n",
    "      key_error.append(q)\n",
    "    if result.requested_attributes !=  info[\"information_requested\"]:\n",
    "      info_error.append(q)\n"
   ]
  },
  {
   "cell_type": "code",
   "execution_count": null,
   "metadata": {
    "colab": {
     "base_uri": "https://localhost:8080/"
    },
    "id": "h1P_K93GC0CQ",
    "outputId": "c8d5d794-a733-4fbe-8f20-6ee9086b511c"
   },
   "outputs": [
    {
     "data": {
      "text/plain": [
       "0"
      ]
     },
     "execution_count": 34,
     "metadata": {},
     "output_type": "execute_result"
    }
   ],
   "source": [
    "len(key_error)"
   ]
  },
  {
   "cell_type": "code",
   "execution_count": null,
   "metadata": {
    "colab": {
     "base_uri": "https://localhost:8080/"
    },
    "id": "JIUvdc53D4zb",
    "outputId": "76106c5f-7316-41d9-d731-37ee4724f9ed"
   },
   "outputs": [
    {
     "data": {
      "text/plain": [
       "0"
      ]
     },
     "execution_count": 35,
     "metadata": {},
     "output_type": "execute_result"
    }
   ],
   "source": [
    "len(info_error)"
   ]
  },
  {
   "cell_type": "code",
   "execution_count": null,
   "metadata": {
    "id": "4PCUcCq_GLOg"
   },
   "outputs": [],
   "source": []
  }
 ],
 "metadata": {
  "colab": {
   "provenance": []
  },
  "kernelspec": {
   "display_name": "Python 3 (ipykernel)",
   "language": "python",
   "name": "python3"
  },
  "language_info": {
   "codemirror_mode": {
    "name": "ipython",
    "version": 3
   },
   "file_extension": ".py",
   "mimetype": "text/x-python",
   "name": "python",
   "nbconvert_exporter": "python",
   "pygments_lexer": "ipython3",
   "version": "3.12.7"
  }
 },
 "nbformat": 4,
 "nbformat_minor": 4
}
